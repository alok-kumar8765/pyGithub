{
  "nbformat": 4,
  "nbformat_minor": 0,
  "metadata": {
    "colab": {
      "provenance": [],
      "authorship_tag": "ABX9TyOKbNiw5yiVGKqjKUtBR3T7",
      "include_colab_link": true
    },
    "kernelspec": {
      "name": "python3",
      "display_name": "Python 3"
    },
    "language_info": {
      "name": "python"
    }
  },
  "cells": [
    {
      "cell_type": "markdown",
      "metadata": {
        "id": "view-in-github",
        "colab_type": "text"
      },
      "source": [
        "<a href=\"https://colab.research.google.com/github/alok-techqware/pyGithub/blob/main/Git_Automation.ipynb\" target=\"_parent\"><img src=\"https://colab.research.google.com/assets/colab-badge.svg\" alt=\"Open In Colab\"/></a>"
      ]
    },
    {
      "cell_type": "code",
      "execution_count": null,
      "metadata": {
        "id": "LfhZvKUCw8cy"
      },
      "outputs": [],
      "source": [
        "!pip install pygithub"
      ]
    },
    {
      "cell_type": "markdown",
      "source": [
        "to get you token [click](https://github.com/settings/tokens)"
      ],
      "metadata": {
        "id": "TcM7hQ51Qr_d"
      }
    },
    {
      "cell_type": "code",
      "source": [
        "from github import Github"
      ],
      "metadata": {
        "id": "wLgW0tcNxw29"
      },
      "execution_count": 3,
      "outputs": []
    },
    {
      "cell_type": "code",
      "source": [
        "from github import Auth\n",
        "auth = Auth.Token(\"You Token\")\n",
        "g = Github(auth=auth)\n",
        "g.get_user().login\n",
        "\n",
        "repo = g.search_repositories(query=\"language:python\")"
      ],
      "metadata": {
        "id": "85XNGFhKx8al"
      },
      "execution_count": 17,
      "outputs": []
    },
    {
      "cell_type": "code",
      "source": [
        "for r in repo:\n",
        "  print(r)\n",
        ""
      ],
      "metadata": {
        "id": "AeUB93Q3yvn2"
      },
      "execution_count": null,
      "outputs": []
    },
    {
      "cell_type": "code",
      "source": [
        "for r in g.get_user().get_repos():\n",
        "  print(r.name)"
      ],
      "metadata": {
        "id": "rcidM5Ts1Gtn"
      },
      "execution_count": null,
      "outputs": []
    },
    {
      "cell_type": "code",
      "source": [
        "## Get Current User\n",
        "user = g.get_user()\n",
        "user.login\n"
      ],
      "metadata": {
        "id": "v90SmFzN5SNr"
      },
      "execution_count": null,
      "outputs": []
    },
    {
      "cell_type": "code",
      "source": [
        "## Get User by name\n",
        "user = g.get_user(\"sfdye\")\n",
        "user.name"
      ],
      "metadata": {
        "id": "WdpePjhv5lEi"
      },
      "execution_count": null,
      "outputs": []
    },
    {
      "cell_type": "code",
      "source": [
        "#Get count of stars\n",
        "repo = g.get_repo(\"alok-techqware/Simple_API_POC\")\n",
        "repo.stargazers_count"
      ],
      "metadata": {
        "id": "pHn1FPUF5x64"
      },
      "execution_count": null,
      "outputs": []
    },
    {
      "cell_type": "code",
      "source": [
        "## Get list of open issues\n",
        "repo = g.get_repo(\"alok-techqware/Simple_API_POC\")\n",
        "open_issues = repo.get_issues(state='open')\n",
        "for issue in open_issues:\n",
        "  print(issue)"
      ],
      "metadata": {
        "id": "JNBSuyIb6FxC"
      },
      "execution_count": 23,
      "outputs": []
    },
    {
      "cell_type": "code",
      "source": [
        "## Get all of the contents of the root directory of the repository\n",
        "repo = g.get_repo(\"alok-techqware/Simple_API_POC\")\n",
        "contents = repo.get_contents(\"\")\n",
        "for content_file in contents:\n",
        "  print(content_file)"
      ],
      "metadata": {
        "id": "pLKbuPoY6mwc"
      },
      "execution_count": null,
      "outputs": []
    },
    {
      "cell_type": "code",
      "source": [
        "traffic = repo.get_views_traffic()\n",
        "traffic"
      ],
      "metadata": {
        "id": "LXiAoDjnMYz7"
      },
      "execution_count": null,
      "outputs": []
    },
    {
      "cell_type": "code",
      "source": [
        "## Create New Repo\n",
        "user=g.get_user()\n",
        "repo = user.create_repo(\"pyGithub\")"
      ],
      "metadata": {
        "id": "kJRmbKlUMu1e"
      },
      "execution_count": 27,
      "outputs": []
    },
    {
      "cell_type": "code",
      "source": [
        "## Create New File\n",
        "repo.create_file(\"test.txt\",\"commit\",\"this is test text\")"
      ],
      "metadata": {
        "id": "2WG3tV1pN2h2"
      },
      "execution_count": null,
      "outputs": []
    },
    {
      "cell_type": "code",
      "source": [
        "##Get list of branches\n",
        "repo = g.get_repo(\"alok-techqware/PyGithub\")\n",
        "list(repo.get_branches())"
      ],
      "metadata": {
        "id": "qOKru7ZmOCma"
      },
      "execution_count": null,
      "outputs": []
    },
    {
      "cell_type": "code",
      "source": [
        "## Get a branch\n",
        "repo = g.get_repo(\"alok-techqware/PyGithub\")\n",
        "repo.get_branch(branch=\"master\")"
      ],
      "metadata": {
        "id": "ScvpLUT2POOZ"
      },
      "execution_count": null,
      "outputs": []
    },
    {
      "cell_type": "code",
      "source": [
        "## Get HEAD commit of a branch\n",
        "branch = g.get_repo(\"alok-techqware/PyGithub\").get_branch(\"main\")\n",
        "branch.commit"
      ],
      "metadata": {
        "id": "AVJR6Q-vPgV7"
      },
      "execution_count": null,
      "outputs": []
    },
    {
      "cell_type": "code",
      "source": [],
      "metadata": {
        "id": "SxNFuyJuPpR0"
      },
      "execution_count": 32,
      "outputs": []
    }
  ]
}